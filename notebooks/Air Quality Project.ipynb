{
 "cells": [
  {
   "cell_type": "markdown",
   "id": "fd9d78a2-0adc-4de9-aab1-3f16bd80906e",
   "metadata": {},
   "source": [
    "# Air quality and Meteorological Conditions in Beijing\n",
    "\n",
    "**The data used in this notebook was downloaded from the [UCI Machine Learning Repository](https://archive.ics.uci.edu/dataset/501/beijing+multi+site+air+quality+data). The data consists of hourly data of six main air pollutants and six relevant meteorological variables at multiple sites in Beijing.**"
   ]
  },
  {
   "cell_type": "code",
   "execution_count": 1,
   "id": "69be54e6-8af6-4c1e-ba9b-da829a81f930",
   "metadata": {},
   "outputs": [],
   "source": [
    "#Importing python packages\n",
    "import pandas as pd\n",
    "import numpy as np\n",
    "import matplotlib.pyplot as plt\n",
    "import seaborn as sns\n",
    "import yaml\n",
    "from functions import wspm_conversion\n",
    "#import functions as f"
   ]
  },
  {
   "cell_type": "code",
   "execution_count": 10,
   "id": "33cb4868-bc04-4fe8-b739-c9f6ea9cac0b",
   "metadata": {},
   "outputs": [],
   "source": [
    "try:\n",
    "    with open(\"../config.yaml\", \"r\") as file:\n",
    "        config = yaml.safe_load(file)\n",
    "except:\n",
    "    print(\"The configuration file was not found!\")"
   ]
  },
  {
   "cell_type": "code",
   "execution_count": 14,
   "id": "054293a4-0270-4798-9bae-1c8a3a5afdc9",
   "metadata": {},
   "outputs": [
    {
     "data": {
      "text/plain": [
       "'.../data/Raw/PRSA_Data_Changping_20130301-20170228.csv'"
      ]
     },
     "execution_count": 14,
     "metadata": {},
     "output_type": "execute_result"
    }
   ],
   "source": [
    "config['data']['raw']['file1']"
   ]
  },
  {
   "cell_type": "code",
   "execution_count": null,
   "id": "5d78c76d-057a-4e4c-8a2f-37c5c0c4f892",
   "metadata": {},
   "outputs": [],
   "source": [
    "#provide description for each columns\n",
    "data = {\n",
    "    'Column':['year', 'month', 'day', 'hour', 'pm2.5', 'pm10', 'so2', 'no2', 'co', 'o3', 'temp', 'pres', 'dewp', 'rain', 'wd', 'wspm', 'station'],\n",
    "    'Description': ['Year', 'Month', 'Day', 'Hour', 'PM2.5 concentration (ug/m^3)', 'PM10 concentration (ug/m^3)', 'Sulfur Dioxide concentration (ug/m^3)', 'Nitrogen Dioxide concentration (ug/m^3)', 'Carbon Monoxide concentration (ug/m^3)', 'Ozone concentration (ug/m^3)', 'Temperature (degree Celsius)', 'Pressure (hPa)', 'Dew Point Temperature (degree Celsius)', 'Precipitation (mm)', 'Wind Direction', 'Wind Speed (m/s)', 'Name of the Air-Quality Monitoring Site']\n",
    "}\n",
    "\n",
    "datainfo = pd.DataFrame(data)\n",
    "datainfo"
   ]
  },
  {
   "cell_type": "markdown",
   "id": "9fa1339b-5f76-4c9d-8411-ff46c486cd77",
   "metadata": {},
   "source": [
    "# 1. Data Cleaning"
   ]
  },
  {
   "cell_type": "code",
   "execution_count": null,
   "id": "a9aa3348-830d-4411-9689-6e6c8ec510fe",
   "metadata": {},
   "outputs": [],
   "source": [
    "#Loading Datas \n",
    "#df_changping = pd.read_csv(\"config['data']['raw']['file1']\")\n",
    "df_changping = pd.read_csv(\"/Users/ryanvandenakker/Documents/Ironhack/Week 3/Project1/data/Raw/PRSA_Data_Changping_20130301-20170228.csv\")\n",
    "df_dingling = pd.read_csv(\"/Users/ryanvandenakker/Documents/Ironhack/Week 3/Project1/data/Raw/PRSA_Data_Dingling_20130301-20170228.csv\")\n",
    "df_dongsi = pd. read_csv(\"/Users/ryanvandenakker/Documents/Ironhack/Week 3/Project1/data/Raw/PRSA_Data_Dongsi_20130301-20170228.csv\")\n",
    "df_guanyuan = pd.read_csv(\"/Users/ryanvandenakker/Documents/Ironhack/Week 3/Project1/data/Raw/PRSA_Data_Guanyuan_20130301-20170228.csv\")\n",
    "df_gucheng = pd.read_csv(\"/Users/ryanvandenakker/Documents/Ironhack/Week 3/Project1/data/Raw/PRSA_Data_Gucheng_20130301-20170228.csv\")\n",
    "df_huairou = pd.read_csv(\"/Users/ryanvandenakker/Documents/Ironhack/Week 3/Project1/data/Raw/PRSA_Data_Huairou_20130301-20170228.csv\")\n",
    "df_nongzhanguan = pd.read_csv(\"/Users/ryanvandenakker/Documents/Ironhack/Week 3/Project1/data/Raw/PRSA_Data_Nongzhanguan_20130301-20170228.csv\")\n",
    "df_shunyi = pd.read_csv(\"/Users/ryanvandenakker/Documents/Ironhack/Week 3/Project1/data/Raw/PRSA_Data_Shunyi_20130301-20170228.csv\")\n",
    "df_tiantan = pd.read_csv(\"/Users/ryanvandenakker/Documents/Ironhack/Week 3/Project1/data/Raw/PRSA_Data_Tiantan_20130301-20170228.csv\")\n",
    "df_wanliu = pd.read_csv(\"/Users/ryanvandenakker/Documents/Ironhack/Week 3/Project1/data/Raw/PRSA_Data_Wanliu_20130301-20170228.csv\")\n",
    "df_wanshouxigong = pd.read_csv(\"/Users/ryanvandenakker/Documents/Ironhack/Week 3/Project1/data/Raw/PRSA_Data_Wanshouxigong_20130301-20170228.csv\")\n",
    "df_aotizhongxin = pd.read_csv(\"/Users/ryanvandenakker/Documents/Ironhack/Week 3/Project1/data/Raw/PRSA_Data_Aotizhongxin_20130301-20170228.csv\")"
   ]
  },
  {
   "cell_type": "code",
   "execution_count": null,
   "id": "138369da-31b2-44c9-babf-e1d57d1a2401",
   "metadata": {},
   "outputs": [],
   "source": [
    "#Concatenate the dataframes into one\n",
    "df = pd.concat([df_changping, df_dingling, df_dongsi, df_guanyuan, df_gucheng, df_huairou, df_nongzhanguan, df_shunyi, df_tiantan, df_wanliu, df_wanshouxigong, df_aotizhongxin]).reset_index(drop = True)\n",
    "df.head()"
   ]
  },
  {
   "cell_type": "code",
   "execution_count": null,
   "id": "e08a1780-2492-44db-b5a3-96555e3e8c65",
   "metadata": {},
   "outputs": [],
   "source": [
    "#Checking the shape of the dataframe. It has 420,768 rows and 18 columns. \n",
    "df.shape"
   ]
  },
  {
   "cell_type": "code",
   "execution_count": null,
   "id": "ef5d1b5c-9c1a-498a-a174-836158508efc",
   "metadata": {},
   "outputs": [],
   "source": [
    "df.duplicated().sum() #Counting the duplicated rows in the data"
   ]
  },
  {
   "cell_type": "code",
   "execution_count": null,
   "id": "4d020b81-53a8-400d-ae80-39609dafe3ef",
   "metadata": {},
   "outputs": [],
   "source": [
    "df.dtypes #Checking the data types of the columns"
   ]
  },
  {
   "cell_type": "code",
   "execution_count": null,
   "id": "7aecb0ed-5e7d-4a6c-99e6-f1442eac0e3f",
   "metadata": {},
   "outputs": [],
   "source": [
    "df.info() #Overview information of the dataframe"
   ]
  },
  {
   "cell_type": "code",
   "execution_count": null,
   "id": "701b51c8-8c00-40c4-aba9-1ec95a9bb06b",
   "metadata": {},
   "outputs": [],
   "source": [
    "#renaming all columns to be lowercase and removing white spaces\n",
    "clean_df = df.copy()\n",
    "clean_df = clean_df.rename(columns = lambda x: x.strip().lower())\n",
    "clean_df.head()"
   ]
  },
  {
   "cell_type": "markdown",
   "id": "141aa5bb-47da-4587-8c63-7a4ebcdfb721",
   "metadata": {},
   "source": [
    "- **There seems to be a column that provides no value to our dataset.**\n",
    "- **I will go ahead and remove this column first.**"
   ]
  },
  {
   "cell_type": "code",
   "execution_count": null,
   "id": "743db8ae-112f-42b1-885c-77f9106dd292",
   "metadata": {},
   "outputs": [],
   "source": [
    "#removing 'no' column\n",
    "clean_df = clean_df.drop(['no'], axis = 1)\n",
    "clean_df"
   ]
  },
  {
   "cell_type": "code",
   "execution_count": null,
   "id": "400ba2e5-d7b1-4961-8993-537f0b57e382",
   "metadata": {},
   "outputs": [],
   "source": [
    "#Checking for null values\n",
    "print(clean_df.isna().any())\n",
    "print(\"\")\n",
    "print(\"The columns with null values are:\", clean_df.columns[clean_df.isna().any()].tolist())\n",
    "print(\"\")"
   ]
  },
  {
   "cell_type": "code",
   "execution_count": null,
   "id": "cf3f8588-e254-4c46-8197-4e2ec43b79e3",
   "metadata": {},
   "outputs": [],
   "source": [
    "#observe which rows in 'pm2.5' column has null values\n",
    "clean_df[clean_df['pm2.5'].isna()]"
   ]
  },
  {
   "cell_type": "markdown",
   "id": "5f9e6a2d-d279-4032-8489-c4dee03c59a2",
   "metadata": {},
   "source": [
    "- **Because the dataset contains hhourly measurements of all variables, I believe the most appropriate approach to handling missing values is to use the forward-fill method.** \n",
    "- **Additionally, I have decided to start with filling the missing values before any form of data cleaning as I want to preserve the integerity of the dataset before proceeding with the the forward-fill method.**"
   ]
  },
  {
   "cell_type": "code",
   "execution_count": null,
   "id": "ef5cf4ad-b717-408f-bf37-115b94c6a167",
   "metadata": {},
   "outputs": [],
   "source": [
    "#Fill missing values using the forward-fill method\n",
    "clean_df = clean_df.ffill()\n",
    "clean_df"
   ]
  },
  {
   "cell_type": "code",
   "execution_count": null,
   "id": "8b3dbfa9-7784-4ace-90d5-8fb2af3e81f4",
   "metadata": {},
   "outputs": [],
   "source": [
    "#Check for remaining null values in data\n",
    "remaining_null = clean_df.isna().sum()\n",
    "remaining_null"
   ]
  },
  {
   "cell_type": "code",
   "execution_count": null,
   "id": "33a5379e-9f9c-49f2-a6f6-c84845bb6672",
   "metadata": {},
   "outputs": [],
   "source": [
    "#checking for unique values in 'wd' column\n",
    "clean_df['wd'].unique()"
   ]
  },
  {
   "cell_type": "markdown",
   "id": "91a1b143-bc64-4b15-95f2-c3ff23329249",
   "metadata": {},
   "source": [
    "- **After observing the unique values for 'wd', I have decided to drop certain variables and keep the more traditional wind directions.**"
   ]
  },
  {
   "cell_type": "code",
   "execution_count": null,
   "id": "be08ffbe-bc22-4663-b5aa-7188a04399a9",
   "metadata": {},
   "outputs": [],
   "source": [
    "#Dropping certain wind direction variables\n",
    "drop_wd_variable = ['ENE', 'NNE', 'NNW', 'SSW', 'WSW', 'ESE', 'WNW', 'SSE']\n",
    "variables_to_drop = clean_df[clean_df['wd'].isin(drop_wd_variable)].index\n",
    "clean_df = clean_df.drop(variables_to_drop).reset_index(drop = True)\n",
    "clean_df"
   ]
  },
  {
   "cell_type": "code",
   "execution_count": null,
   "id": "129243fc-f02a-458c-9e57-659a3415d180",
   "metadata": {},
   "outputs": [],
   "source": [
    "clean_df['wd'].unique()"
   ]
  },
  {
   "cell_type": "markdown",
   "id": "6c0d6311-d268-4f4a-9e3a-80d2f10e1808",
   "metadata": {},
   "source": [
    "- **I will condense the 'year', 'month', and 'day' column into one to produce a traditional date format.**"
   ]
  },
  {
   "cell_type": "code",
   "execution_count": null,
   "id": "9b2f80d9-093c-4b89-b9e3-215874003994",
   "metadata": {},
   "outputs": [],
   "source": [
    "#Create a 'date' column\n",
    "clean_df['date'] = pd.to_datetime(clean_df[['year', 'month', 'day']])\n",
    "#Extract the 'date' column\n",
    "date_column = clean_df.pop('date')\n",
    "#Insert the 'date' column to index 3\n",
    "clean_df.insert(3, 'date', date_column)\n",
    "clean_df"
   ]
  },
  {
   "cell_type": "markdown",
   "id": "061643b2-2e90-498b-9ff6-c584ee970963",
   "metadata": {},
   "source": [
    "- **When observing the units for different variables, the unit provided for wind spped is in 'm/s'. I have decided to convert the unit from m/s to km/h as this unit is more commonly used.**"
   ]
  },
  {
   "cell_type": "code",
   "execution_count": null,
   "id": "f2cb3b15-30a3-46b4-800b-4ca042bc9fd8",
   "metadata": {},
   "outputs": [],
   "source": [
    "#Define a function to convert unit for wind speed\n",
    "#def wspm_conversion(m):\n",
    "#    km = m * 3.6\n",
    "#    return km\n",
    "#Create a copy of the original dataset\n",
    "df_clean = clean_df.copy()\n",
    "#Use the apply method to convert all rows for wind speed\n",
    "df_clean['wspm'] = clean_df['wspm'].apply(functions.wspm_conversion)\n",
    "df_clean['wspm'] = clean_df['wspm'].apply(f.wspm_conversion)\n",
    "#df_clean['wspm'] = clean_df['wspm'].apply(wspm_conversion)\n",
    "df_clean.head()"
   ]
  },
  {
   "cell_type": "markdown",
   "id": "f2e09ab6-162c-4b0d-b66d-49b9fafb9291",
   "metadata": {},
   "source": [
    "- **I also noticed the unit for pressure is hPa. However, atm (SI unit for atmospheric pressure) is more commonly used.**"
   ]
  },
  {
   "cell_type": "code",
   "execution_count": null,
   "id": "e9aa0069-18eb-4df8-a757-b9f3cb6f41eb",
   "metadata": {},
   "outputs": [],
   "source": [
    "#Define a function to convert unit for pressure\n",
    "def pressure_conversion(p):\n",
    "    atm = p * 0.000987\n",
    "    return atm\n",
    "#Use the apply method to convert all rows for pressure\n",
    "df_clean['pres'] = df_clean['pres'].apply(pressure_conversion)\n",
    "df_clean.head()"
   ]
  },
  {
   "cell_type": "markdown",
   "id": "e251a407-7fb0-4f26-8af0-3e49677b399b",
   "metadata": {},
   "source": [
    "- **I have decided to group the month of the year into seasons in order to analyze whether levels of pollutions are higher during different seasons.**\n",
    "- **Beijing has 4 seasons: Winter, Spring, Summer, and Autumn.**"
   ]
  },
  {
   "cell_type": "code",
   "execution_count": null,
   "id": "31b66ec7-b647-4e73-aef1-2e8e943b2967",
   "metadata": {},
   "outputs": [],
   "source": [
    "#Defining a dictionary to be used for mapping\n",
    "group = {1:'Winter', 2:'Winter', 3:'Spring', 4:'Spring', \n",
    "         5:'Spring', 6:'Summer', 7:'Summer', 8:'Summer', \n",
    "         9:'Autumn', 10:'Autumn', 11:'Autumn', 12:'Winter'}\n",
    "#Using map() method\n",
    "df_clean['season'] = df_clean['month'].map(group)\n",
    "df_clean.head()\n",
    "#Extract the 'season' column and adding to index 5\n",
    "season_column = df_clean.pop('season')\n",
    "df_clean.insert(5, 'season', season_column)\n",
    "df_clean"
   ]
  },
  {
   "cell_type": "code",
   "execution_count": null,
   "id": "534ce281-4b04-4342-b821-fadda8433f1c",
   "metadata": {},
   "outputs": [],
   "source": [
    "df_clean['hour'].unique()"
   ]
  },
  {
   "cell_type": "markdown",
   "id": "142fa92f-1f81-49b9-b7de-30ec01e886b1",
   "metadata": {},
   "source": [
    "- **I also wanted to analyze whether pollution levels differ based on the time of day. As there are 24 hours in a day, I decided the best way to proceed would be to divide the day into 4: 'Night', 'Morning', 'Afternoon', and 'Evening.**"
   ]
  },
  {
   "cell_type": "code",
   "execution_count": null,
   "id": "443e4a3e-8b52-43a5-9e2a-f6f7c1f49767",
   "metadata": {},
   "outputs": [],
   "source": [
    "#grouping 'hour' into time of day\n",
    "hour_grouped = {0:'Night', 1:'Night', 2:'Night', 3:'Night', \n",
    "                4:'Night', 5:'Night', 6:'Morning', 7:'Morning', \n",
    "                8:'Morning', 9:'Morning', 10:'Morning', 11:'Morning',\n",
    "                12:'Afternoon', 13:'Afternoon', 14:'Afternoon', 15:'Afternoon',\n",
    "                16:'Afternoon', 17:'Afternoon', 18:'Evening', 19:'Evening',\n",
    "                20:'Evening', 21:'Evening', 22:'Evening', 23:'Evening'}\n",
    "#Using map()\n",
    "df_clean['time'] = df_clean['hour'].map(hour_grouped)\n",
    "df_clean\n",
    "#Extract the 'time' column and adding it to index 4\n",
    "time_column = df_clean.pop('time')\n",
    "df_clean.insert(4, 'time', time_column)\n",
    "df_clean"
   ]
  },
  {
   "cell_type": "markdown",
   "id": "4cf24be3-623b-4836-94bd-232b40cfc8d5",
   "metadata": {},
   "source": [
    "- **To finalize the data cleaning process and derive a final DataFrame, I will drop the remaining columns that will not provide any value to the analysis**"
   ]
  },
  {
   "cell_type": "code",
   "execution_count": null,
   "id": "3367c697-bb13-43f2-b873-f3d2aefbfb3b",
   "metadata": {},
   "outputs": [],
   "source": [
    "#As the final dataframe, drop columns 'day' and 'hour'\n",
    "final_df = df_clean.copy()\n",
    "final_df = df_clean.drop(['day', 'hour'], axis=1)\n",
    "display(final_df.head())\n",
    "display(final_df.tail())\n",
    "print(\"\")\n",
    "\n",
    "#Display the number of rows and columns in the final dataset\n",
    "num_rows = final_df.shape[0]\n",
    "num_cols = final_df.shape[1]\n",
    "print(f\"The final DataFrame has {num_rows} rows and {num_cols} columns\")\n",
    "print(\"\")"
   ]
  },
  {
   "cell_type": "code",
   "execution_count": null,
   "id": "7fdc5a5d-9aa5-4c98-8e56-39837ff06d3e",
   "metadata": {},
   "outputs": [],
   "source": [
    "final_df.info() #Summary information about the final dataframe"
   ]
  },
  {
   "cell_type": "code",
   "execution_count": null,
   "id": "9cc72f6c-602d-4c1b-8124-021fb3ca9ef7",
   "metadata": {},
   "outputs": [],
   "source": [
    "final_df.dtypes #Summary of datatypes of each column of final dataframe"
   ]
  },
  {
   "cell_type": "code",
   "execution_count": null,
   "id": "a0561185-6f7a-4430-a050-4dd4695bab33",
   "metadata": {},
   "outputs": [],
   "source": [
    "#Save the cleaned dataframe to a new csv file\n",
    "final_df.to_csv('cleaned_data.csv')"
   ]
  },
  {
   "cell_type": "markdown",
   "id": "a3dc5684-682f-4f71-8d2a-a653e7ca865f",
   "metadata": {},
   "source": [
    "# Exploratory Data Analysis"
   ]
  },
  {
   "cell_type": "markdown",
   "id": "45258516-059b-490c-927a-3802d5f7e546",
   "metadata": {},
   "source": [
    "- **Majority of the AQI includes PM2.5 and PM10 to assess air quality. As such, I have chosen to focus on these two variables for my analysis and I will be dropping the other four variables from the dataset.**"
   ]
  },
  {
   "cell_type": "code",
   "execution_count": null,
   "id": "845e335b-04e2-459c-afc1-0df428947f28",
   "metadata": {},
   "outputs": [],
   "source": [
    "#Dropping 'no2', '03', 'so2', and 'co'\n",
    "df_final = final_df.copy()\n",
    "df_final.drop(['no2', 'o3', 'so2', 'co'], axis = 1, inplace = True)\n",
    "df_final"
   ]
  },
  {
   "cell_type": "markdown",
   "id": "2591fc94-c7c9-4ba6-8948-705d77ca8978",
   "metadata": {},
   "source": [
    "### Question: Which District in Beijing Recorded the Highest Average PM2.5 and PM10 Levels?"
   ]
  },
  {
   "cell_type": "code",
   "execution_count": null,
   "id": "88b765fe-ddcf-4cb8-be71-2d93ab91f526",
   "metadata": {},
   "outputs": [],
   "source": [
    "#Which station reported the highest average air pollutant\n",
    "avg_pollutant = df_final.groupby('station')[['pm2.5', 'pm10']].mean()\n",
    "display(avg_pollutant)"
   ]
  },
  {
   "cell_type": "markdown",
   "id": "7f8872f0-d3b6-4984-ad47-f3bcfda6fe26",
   "metadata": {},
   "source": [
    "PM2.5 are atmospheric aerosols with a maximum diameter of 2.5 micrometers. This type of suspended particulate matter is considered the most dangerous to human health. This is due to its very fine nature, and its ability to penetrate directly into the bloodstream.\n",
    "\n",
    "According to the [Common Air Quality Index](https://airly.org/en/air-quality-index-caqi-and-aqi-methods-of-calculation/):\n",
    "<br>\n",
    "**PM 2.5**\n",
    "<br>\n",
    "***Low*** *(Green)*: 0 - 29 µg/m³\n",
    "<br>\n",
    "***Medium*** *(Yellow)*: 30 - 54 µg/m³\n",
    "<br>\n",
    "***High*** *(Orange)*: 55 - 110 µg/m³\n",
    "<br>\n",
    "***Very High*** *(Red)*: > 110 µg/m³"
   ]
  },
  {
   "cell_type": "code",
   "execution_count": null,
   "id": "8d0316d9-8fc3-44de-aafa-3c527d10d65d",
   "metadata": {},
   "outputs": [],
   "source": [
    "#Average pm2.5 levels by station\n",
    "avg_pm25_values = avg_pollutant['pm2.5']  # Average pm2.5 values\n",
    "station_names = avg_pm25_values.index\n",
    "\n",
    "# Define color mapping function for pm2.5\n",
    "def get_pm25_color(value):\n",
    "    if value > 86:\n",
    "        return 'red'\n",
    "    if value > 55 and value <=110:\n",
    "        return 'orange'\n",
    "    if value >30 and value <= 55:\n",
    "        return 'yellow'\n",
    "    if value <= 30:\n",
    "        return 'green'\n",
    "\n",
    "# Plotting bar chart for pm2.5 pollutant\n",
    "plt.figure(figsize=(10, 6))\n",
    "colors = [get_pm25_color(value) for value in avg_pm25_values]\n",
    "plt.bar(station_names, avg_pm25_values, color=colors)\n",
    "plt.title('Average PM2.5 Levels by Station')\n",
    "plt.xlabel('Station')\n",
    "plt.ylabel('Average PM2.5 (µg/m³)')\n",
    "plt.xticks(rotation=90)\n",
    "plt.grid(axis='y', linestyle='--', alpha=0.7)\n",
    "plt.show()"
   ]
  },
  {
   "cell_type": "markdown",
   "id": "5eb8ffaf-fe89-4eca-abd0-a33f8e340284",
   "metadata": {},
   "source": [
    "PM10 is a mixture of particles suspended in the air that do not exceed 10 micrograms in diameter. It is harmful because it contains benzopyrenes, furans, dioxins and in short, carcinogenic heavy metals.\n",
    "\n",
    "According to the [Common Air Quality Index](https://airly.org/en/air-quality-index-caqi-and-aqi-methods-of-calculation/):\n",
    "<br>\n",
    "**PM 10**\n",
    "<br>\n",
    "***Low*** *(Green)*: 0 - 49 µg/m³\n",
    "<br>\n",
    "***Medium*** *(Yellow)*: 50 - 89 µg/m³\n",
    "<br>\n",
    "***High*** *(Orange)*: 90 - 180 µg/m³\n",
    "<br>\n",
    "***Very High*** *(Red)*: > 180 µg/m³"
   ]
  },
  {
   "cell_type": "code",
   "execution_count": null,
   "id": "3d84968e-a17f-4a4f-bacb-3f42e192a328",
   "metadata": {},
   "outputs": [],
   "source": [
    "#Average pm10 levels by station\n",
    "avg_pm10_values = avg_pollutant['pm10']\n",
    "station_names = avg_pm10_values.index\n",
    "\n",
    "# Define color mapping function for pm10\n",
    "def get_pm10_color(value):\n",
    "    if value > 120:\n",
    "        return 'red'\n",
    "    if value > 90 and value <=180:\n",
    "        return 'orange'\n",
    "    if value >50 and value <= 90:\n",
    "        return 'yellow'\n",
    "    if value <= 50:\n",
    "        return 'green'\n",
    "\n",
    "plt.figure(figsize=(10, 6))\n",
    "colors = [get_pm10_color(value) for value in avg_pm10_values]\n",
    "plt.bar(station_names, avg_pm10_values, color=colors)\n",
    "plt.title('Average PM10 Levels by Station')\n",
    "plt.xlabel('Station')\n",
    "plt.ylabel('Average PM10 (µg/m³)')\n",
    "plt.xticks(rotation=90)\n",
    "plt.grid(axis='y', linestyle='--', alpha=0.7)\n",
    "plt.show()"
   ]
  },
  {
   "cell_type": "markdown",
   "id": "b6527ceb-cc35-4eb9-ad04-c0f4a42ee48c",
   "metadata": {},
   "source": [
    "- **The colors of the bar in the plot above corresponds to the air quality index. All districts recorded high levels of PM2.5. All districts also recorded high levels of PM10, except for Dingling which recorded medium levels of PM10.**\n",
    "- **Based on the two barplots above, we can see that among the 12 districts, Gucheng has the highest average levels of both PM2.5 and PM10. This is followed by Dongsi and Aotizhongxin as having the highest levels of PM2.5 and PM10.** \n",
    "- **On the other hand, the Dingling district recorded the lowest average levels of both PM2.5 and PM10.**"
   ]
  },
  {
   "cell_type": "markdown",
   "id": "cdbeb0fe-1396-46ff-a990-12cc708d107a",
   "metadata": {},
   "source": [
    "### Question: What is the Effect of Time on Pollution Levels in Beijing?\n",
    "Observing how level of pollutants change over time"
   ]
  },
  {
   "cell_type": "markdown",
   "id": "66562646-ddf3-43f8-8b57-124f0398263f",
   "metadata": {},
   "source": [
    "Lets start by looking at how daily average PM2.5 and PM10 levels differ between 2013 and 2017"
   ]
  },
  {
   "cell_type": "code",
   "execution_count": null,
   "id": "82784653-6af7-4041-80a1-0f4bca0b6f10",
   "metadata": {},
   "outputs": [],
   "source": [
    "#Plot average levels of 'PM2.5' over the periods of 2013 to 2017\n",
    "plt.figure(figsize=(12, 6))\n",
    "plt.plot(df_final['date'], df_final['pm2.5'])\n",
    "plt.ylim(0, 1100)\n",
    "plt.title('PM2.5 Levels Over Time')\n",
    "plt.xlabel('Date')\n",
    "plt.ylabel('PM2.5 Level (µg/m³)')\n",
    "plt.xticks(rotation = 45)\n",
    "plt.grid(True)\n",
    "plt.show()\n",
    "\n",
    "#Plot average levels of 'PM10' over the periods of 2013 to 2017\n",
    "plt.figure(figsize=(12,6))\n",
    "plt.plot(df_final['date'], df_final['pm10'])\n",
    "plt.ylim(0, 1100)\n",
    "plt.title('PM10 Levels Over Time')\n",
    "plt.xlabel('Date')\n",
    "plt.ylabel('PM10 Level (µg/m³)')\n",
    "plt.xticks(rotation = 45)\n",
    "plt.grid(True)\n",
    "plt.show()"
   ]
  },
  {
   "cell_type": "markdown",
   "id": "0724ccff-d074-4bf0-bb97-4f930227cff6",
   "metadata": {},
   "source": [
    "- **We can see that between Jan 2013 to Jan 2017, the safety level for both PM2.5 (<55 µg/m³) and PM10 (<90 µg/m³) has been exceeded every year. Certain days have even recorded levels surpassing hazardous levels of 1000 µg/m³.**\n",
    "- **We can also already see that the highest average levels of PM2.5 and PM10 seem to be recorded during the start and end of every year. We will explore this further later on in the analysis.**"
   ]
  },
  {
   "cell_type": "markdown",
   "id": "754de5af-19e6-4501-bc6c-fa055f5901aa",
   "metadata": {},
   "source": [
    "Now I will check to see which year had the highest levels of PM2.5 and PM10"
   ]
  },
  {
   "cell_type": "code",
   "execution_count": null,
   "id": "e8d6ac28-b1ca-4496-a71d-4aa6b9ce9a7a",
   "metadata": {},
   "outputs": [],
   "source": [
    "#Group pm2.5 and pm10 by 'year' and reset index to have 'year' as a column\n",
    "pm_over_year = df_final.groupby('year')[['pm2.5', 'pm10']].mean().reset_index()\n",
    "display(pm_over_year)\n",
    "\n",
    "# Melt the DataFrame to long format for seaborn\n",
    "pm_over_year_melted = pm_over_year.melt(id_vars='year', var_name='Pollutant', value_name='Average Level')\n",
    "\n",
    "# Plot using Seaborn\n",
    "plt.figure(figsize=(15, 8))\n",
    "sns.barplot(data=pm_over_year_melted, x='year', y='Average Level', hue='Pollutant')\n",
    "plt.title('Average PM2.5 and PM10 Levels by Year')\n",
    "plt.xlabel('Year')\n",
    "plt.ylabel('Average Pollutant Level (µg/m³)')\n",
    "plt.legend(title='Pollutant', loc = 'upper left')\n",
    "plt.xticks(rotation=45)\n",
    "plt.grid(axis='y', linestyle='--', alpha=0.7)\n",
    "plt.show()"
   ]
  },
  {
   "cell_type": "markdown",
   "id": "48a2b49a-3ed6-49a9-8a0f-0a4bc5855e4c",
   "metadata": {},
   "source": [
    "- **We can see from the barplot above, the year 2014 produced the highest average levels of PM10 and 2017 produced the highest average levels of PM2.5. 2016 recorded the lowest levels of both PM2.5 and PM10.**\n",
    "- **We can also derive from the barplot that every year recorded dangerous levels of pollutants in the air.**"
   ]
  },
  {
   "cell_type": "markdown",
   "id": "6e7f63c3-6e03-4e20-b6e7-91221a735306",
   "metadata": {},
   "source": [
    "Lets explore this further and observe how levels of pollutants vary per season"
   ]
  },
  {
   "cell_type": "code",
   "execution_count": null,
   "id": "1d4a08bd-c024-4a18-ae1b-be1019c69974",
   "metadata": {},
   "outputs": [],
   "source": [
    "#aggregating pm2.5 and pm10 by season\n",
    "season_pm = df_final.groupby('season')[['pm2.5', 'pm10']].mean().reset_index()\n",
    "display(season_pm)\n",
    "\n",
    "# Melt the DataFrame to long format for seaborn\n",
    "season_pm_melted = season_pm.melt(id_vars='season', var_name='Pollutant', value_name='Average Level')\n",
    "\n",
    "#Plot average pollutant levels per season using seaborn\n",
    "plt.figure(figsize=(20, 7))\n",
    "sns.barplot(data=season_pm_melted, x='season', y='Average Level', hue='Pollutant')\n",
    "plt.title('Average PM2.5 and PM10 Levels by Season')\n",
    "plt.xlabel('Season')\n",
    "plt.ylabel('Average Pollutant Level (µg/m³)')\n",
    "plt.legend(title='Pollutant', loc = 'upper left')\n",
    "plt.xticks(rotation=45)\n",
    "plt.grid(axis='y', linestyle='--', alpha=0.7)\n",
    "plt.show()"
   ]
  },
  {
   "cell_type": "markdown",
   "id": "7fc59931-b445-4a35-bb96-a45aace676b1",
   "metadata": {},
   "source": [
    "- **As shown in the plot above, there are strong seasonal dependencies of pollutants, leading to substantial seasonal variation in the average concentration of PM2.5 and PM10.**\n",
    "- **Highest average levels of PM2.5 were recorded during the winter time (Dec, Jan, Feb), followed closely by autumn (Sep, Oct, Nov).**\n",
    "- **While concentrations of PM2.5 in the spring are relatively lower, PM10 concentration is highest during spring. This, most likely, is due to pollination during these months, as pollen is a type of PM10. Additionally, Beijing is regularly hit with sandstorms in the spring with the smog made worse by rising industrial activities and rapid deforestation.**"
   ]
  },
  {
   "cell_type": "markdown",
   "id": "94b3aba8-f6ae-4d9e-8502-f8762a3fada5",
   "metadata": {},
   "source": [
    "Lets find an explanation for why air pollutant levels are higher during winter periods:"
   ]
  },
  {
   "cell_type": "code",
   "execution_count": null,
   "id": "43f78456-5fd3-413b-aa77-5362dcf6d64a",
   "metadata": {},
   "outputs": [],
   "source": [
    "# Grouping by month and calculating the mean temperature\n",
    "temp_over_year = df_final.groupby('month')['temp'].mean()\n",
    "display(temp_over_year)\n",
    "\n",
    "#Plot average temperatures per month using seaborn\n",
    "plt.figure(figsize=(10, 6))\n",
    "temp_over_year.plot(kind='bar', color='skyblue')\n",
    "plt.title('Average Temperature by Month')\n",
    "plt.xlabel('Month')\n",
    "plt.ylabel('Average Temperature (°C)')\n",
    "plt.xticks(ticks=range(12), labels=['Jan', 'Feb', 'Mar', 'Apr', 'May', 'Jun', 'Jul', 'Aug', 'Sep', 'Oct', 'Nov', 'Dec'], rotation=0)\n",
    "plt.grid(axis='y', linestyle='--', alpha=0.7)\n",
    "plt.show()"
   ]
  },
  {
   "cell_type": "markdown",
   "id": "777814bd-85ae-4f80-8f06-5df1027f82c7",
   "metadata": {},
   "source": [
    "- **The winter periods in Beijing are the coldest. Therefore, a possible explanation for higher levels of pollutants during these months is the increased coal burning for heating.**\n",
    "- **Another explanation is that cold air is denser and moves slower than warm air. This density means that cold air traps the pollution and the particles remain in place for much longer.**\n",
    "- **In an attempt to improve air quality during these months, the Chinese authority could consider incentivizing cleaner methods of heating, such as electricity or natural gases. These alternatives are considered cleaner and more efficient than its counterparts.** "
   ]
  },
  {
   "cell_type": "markdown",
   "id": "c593b048-666e-44b3-b0f0-50e81bcf753b",
   "metadata": {},
   "source": [
    "Finally, I will explore how PM levels differ depending on the time of day"
   ]
  },
  {
   "cell_type": "code",
   "execution_count": null,
   "id": "914c1677-0408-4afe-a56e-bdd8c57919aa",
   "metadata": {},
   "outputs": [],
   "source": [
    "# Grouping by time of day and calculating the mean pm2.5 and pm10\n",
    "time_pm = df_final.groupby('time')[['pm2.5', 'pm10']].mean()\n",
    "display(time_pm)\n",
    "\n",
    "# Plotting\n",
    "plt.figure(figsize=(10, 6))\n",
    "time_pm.plot(kind='bar')\n",
    "plt.title('Average Pollutant level by Time of Day')\n",
    "plt.xlabel('Time of Day')\n",
    "plt.ylabel('Average Pollutant Level (µg/m³)')\n",
    "plt.legend(title='Pollutant', loc = 'upper left')\n",
    "plt.xticks(rotation=0)\n",
    "plt.grid(axis='y', linestyle='--', alpha=0.7)\n",
    "plt.show()"
   ]
  },
  {
   "cell_type": "markdown",
   "id": "2e09e173-48af-458c-a785-c77da99f5146",
   "metadata": {},
   "source": [
    "- **Based on the plot, the average PM2.5 and PM10 levels are lowest in the morning and highest in the evening.**\n",
    "- **During the day, the sun heats up the ground, causing the air to rise and creating wind. On the other hand, at night time, the ground cools down which reduces the wind speed. With less wind to disperse pollutants, they tend to accumulate and settle near the surface.**"
   ]
  },
  {
   "cell_type": "markdown",
   "id": "4ed1b1a4-1a5e-4d8d-93f6-7b22f977fcca",
   "metadata": {},
   "source": [
    "# Meteorological Conditions and Air Quality"
   ]
  },
  {
   "cell_type": "markdown",
   "id": "a561cb96-0f78-4141-858c-e81629e55482",
   "metadata": {},
   "source": [
    "### Question: Does Wind Speed Affect Air Quality?"
   ]
  },
  {
   "cell_type": "code",
   "execution_count": null,
   "id": "9b471139-4972-4fdf-a530-ed364224b270",
   "metadata": {},
   "outputs": [],
   "source": [
    "#Grouping average windspeed by month\n",
    "wspm_by_month = df_final.groupby('month')['wspm'].mean()\n",
    "display(wspm_by_month)\n",
    "\n",
    "# Plotting the average wind speed by month\n",
    "plt.figure(figsize=(10, 6))\n",
    "wspm_by_month.plot(kind='bar')\n",
    "plt.title('Average Wind Speed by Month')\n",
    "plt.xlabel('Month')\n",
    "plt.ylabel('Average Wind Speed (km/h)')\n",
    "plt.xticks(ticks=range(12), labels=['Jan', 'Feb', 'Mar', 'Apr', 'May', 'Jun', 'Jul', 'Aug', 'Sep', 'Oct', 'Nov', 'Dec'], rotation=0)\n",
    "plt.grid(axis='y', linestyle='--', alpha=0.7)\n",
    "plt.show()"
   ]
  },
  {
   "cell_type": "code",
   "execution_count": null,
   "id": "aced32ac-9ce5-49ff-8abc-65e68a568ae5",
   "metadata": {},
   "outputs": [],
   "source": [
    "#Specific size of the plot\n",
    "plt.figure(figsize=(10, 6))\n",
    "\n",
    "# Scatter plot for PM10\n",
    "plt.scatter(df_final['wspm'], df_final['pm10'], alpha=0.5, label='PM10', marker='x', color='skyblue')\n",
    "\n",
    "#Scatter plot for pm2.5\n",
    "plt.scatter(df_final['wspm'], df_final['pm2.5'], alpha=0.5, label='PM2.5')\n",
    "\n",
    "#Determine characteristics of the scatter plot\n",
    "plt.title('Scatter Plot of PM2.5 and PM10 vs Wind Speed')\n",
    "plt.xlabel('Wind Speed (km/h)')\n",
    "plt.ylabel('Concentration (µg/m³)')\n",
    "plt.legend()\n",
    "plt.grid(True)\n",
    "plt.show()"
   ]
  },
  {
   "cell_type": "markdown",
   "id": "002fa612-8929-4a0a-b0f7-71aa4b6e39a4",
   "metadata": {},
   "source": [
    "- **This further confirms the previous finding regarding pollutant concentration and time of day. We can see that the concentration is higher when the wind speed is lowest and lower concentrations were recorded when wind speed was higher.**\n",
    "- **The higher the wind speed, the more contaminants are dispersed and the lower their concentration.**"
   ]
  },
  {
   "cell_type": "markdown",
   "id": "0f496720-4f88-403c-8646-08f1671d2d61",
   "metadata": {},
   "source": [
    "### Question: Does Precipitation Affect Air Quality?"
   ]
  },
  {
   "cell_type": "code",
   "execution_count": null,
   "id": "b860e0eb-10f9-4e82-aaac-06365ebcd83e",
   "metadata": {},
   "outputs": [],
   "source": [
    "#Specify size of the plot\n",
    "plt.figure(figsize=(10, 6))\n",
    "\n",
    "#Scatter plot for pm2.5\n",
    "plt.scatter(df_final['rain'], df_final['pm2.5'], alpha=0.5, label='PM2.5')\n",
    "\n",
    "# Scatter plot for PM10\n",
    "plt.scatter(df_final['rain'], df_final['pm10'], alpha=0.5, label='PM10', marker='x', color='skyblue')\n",
    "\n",
    "#Determine characteristics of the scatter plot\n",
    "plt.title('Scatter Plot of PM2.5 and PM10 vs Precipitation')\n",
    "plt.xlabel('Precipitation (mm)')\n",
    "plt.ylabel('Concentration (µg/m³)')\n",
    "plt.legend()\n",
    "plt.grid(True)\n",
    "plt.show()"
   ]
  },
  {
   "cell_type": "markdown",
   "id": "cc123759-6296-4032-b6fe-34de2b45dea7",
   "metadata": {},
   "source": [
    "- **On rainy days, rain droplets forces down the most common air pollutants, like particulate matter and pollen down. Thereby, the quality of air becomes drastically better. This phenomenon is called wet deposition.**\n",
    "- **While the pollutants are washed out or dispersed, they are not gone. They have just been transported to another location. For instance, they may end up in bodies of water or in someone's lungs.**\n",
    "- **This is confirmed by the plot above. On days with heavier precipitation, we see a lower concentration of pollutants recorded.**\n",
    "- **Advised that individuals with health concerns minimize exposure to the outdoors or consider wearing a face mask to prevent inhalation of pollutant.**"
   ]
  },
  {
   "cell_type": "markdown",
   "id": "bea9ac84-6076-4aa9-9015-f301716ef2f9",
   "metadata": {},
   "source": [
    "### Question: Does Pressure Affect Air Quality?"
   ]
  },
  {
   "cell_type": "code",
   "execution_count": null,
   "id": "e8ed5442-b8fd-486b-a0fa-9adaf44357b3",
   "metadata": {},
   "outputs": [],
   "source": [
    "#Specify size of the plot\n",
    "plt.figure(figsize=(10, 6))\n",
    "\n",
    "#Scatter plot for pm2.5\n",
    "plt.scatter(df_final['pres'], df_final['pm2.5'], alpha=0.5, label='PM2.5')\n",
    "\n",
    "# Scatter plot for PM10\n",
    "plt.scatter(df_final['pres'], df_final['pm10'], alpha=0.5, label='PM10', marker='x', color='skyblue')\n",
    "\n",
    "#Determine characteristics of the scatter plot\n",
    "plt.title('Scatter Plot of PM2.5 and PM10 vs Pressure')\n",
    "plt.xlabel('Pressure (atm)')\n",
    "plt.ylabel('Concentration (µg/m³)')\n",
    "plt.legend()\n",
    "plt.grid(True)\n",
    "plt.show()"
   ]
  },
  {
   "cell_type": "markdown",
   "id": "5bb9f229-1f8a-4d11-ae27-03cb8323ab2a",
   "metadata": {},
   "source": [
    "- **Although the pressure throughout the dataset does not vary significantly, we can see that the pollutant concentration tended towards 1.00 atm which is the average pressure at mean sea level.**\n",
    "- **Low-pressure conditions bring wet and windy conditions. A passing storm front can wash pollutants out of the atmosphere or transport them to a new area. This explains why lower concentration of pollutants can be observed at lower pressure levels.**\n",
    "- **The opposite is true of high-pressure conditions, which can create stagnant air. When the air stops moving, pollutants concentrate over an area.**"
   ]
  }
 ],
 "metadata": {
  "kernelspec": {
   "display_name": "venv",
   "language": "python",
   "name": "venv"
  },
  "language_info": {
   "codemirror_mode": {
    "name": "ipython",
    "version": 3
   },
   "file_extension": ".py",
   "mimetype": "text/x-python",
   "name": "python",
   "nbconvert_exporter": "python",
   "pygments_lexer": "ipython3",
   "version": "3.11.7"
  }
 },
 "nbformat": 4,
 "nbformat_minor": 5
}
